{
 "cells": [
  {
   "cell_type": "code",
   "execution_count": 1,
   "metadata": {},
   "outputs": [],
   "source": [
    "# Imports\n",
    "import os, sys, inspect\n",
    "current_dir = os.path.dirname(os.path.abspath(inspect.getfile(inspect.currentframe())))\n",
    "parent_dir = os.path.dirname(current_dir)\n",
    "sys.path.insert(0, parent_dir)\n",
    "\n",
    "import numpy as np\n",
    "from pandas import read_csv, DataFrame\n",
    "from keras import models, layers, initializers\n",
    "from keras.wrappers.scikit_learn import KerasClassifier\n",
    "import keras.metrics as km\n",
    "import keras.backend as kb\n",
    "from keras.callbacks import EarlyStopping\n",
    "import matplotlib.pyplot as plt\n",
    "\n",
    "from sklearn.metrics import roc_curve, auc\n",
    "from sklearn.model_selection import GridSearchCV, PredefinedSplit\n",
    "\n",
    "import preprocess as p"
   ]
  },
  {
   "cell_type": "code",
   "execution_count": 5,
   "metadata": {},
   "outputs": [],
   "source": [
    "# Classification metrics\n",
    "METRICS = [\n",
    "      km.TruePositives(name='tp'),\n",
    "      km.FalsePositives(name='fp'),\n",
    "      km.TrueNegatives(name='tn'),\n",
    "      km.FalseNegatives(name='fn'), \n",
    "      km.BinaryAccuracy(name='accuracy'),\n",
    "      km.Precision(name='precision'),\n",
    "      km.Recall(name='recall'),\n",
    "      km.AUC(name='auc')]\n",
    "\n",
    "\n",
    "# Visualises results of a grid search\n",
    "def plot_gs_results(grid_result, ignore = [None]):\n",
    "    if dim == 1:\n",
    "        pass\n",
    "    elif dim == 2:\n",
    "        pass\n",
    "    \n",
    "    \n",
    "    "
   ]
  },
  {
   "cell_type": "markdown",
   "metadata": {},
   "source": [
    "# Load Training Data"
   ]
  },
  {
   "cell_type": "code",
   "execution_count": 6,
   "metadata": {},
   "outputs": [],
   "source": [
    "# Load data\n",
    "train_pred = read_csv(\"../data/is_wkt_train_preds.csv\")\n",
    "train_out = read_csv(\"../data/is_wkt_train_labs.csv\")\n",
    "\n",
    "# Preprocess\n",
    "train_x, means, sds = p.standardise(p.split_new_ball(train_pred.to_numpy()))\n",
    "train_y = (train_out.to_numpy())[:,1]\n",
    "\n",
    "# Validation set\n",
    "val_prop = int(np.ceil(train_x.shape[0]/10))\n",
    "x_val = train_x[:val_prop]\n",
    "partial_x_train = train_x[val_prop:]\n",
    "y_val = train_y[:val_prop]\n",
    "partial_y_train = train_y[val_prop:]\n",
    "\n",
    "# Split indicator\n",
    "split_index = [-1 if x > val_prop else 0 for x in range(train_x.shape[0])]\n",
    "pds = PredefinedSplit(test_fold = split_index)\n",
    "\n",
    "INPUT_DIM = train_x.shape[1]"
   ]
  },
  {
   "cell_type": "markdown",
   "metadata": {},
   "source": [
    "# Epochs & Batch Size"
   ]
  },
  {
   "cell_type": "markdown",
   "metadata": {},
   "source": [
    "## Model Wrapper"
   ]
  },
  {
   "cell_type": "code",
   "execution_count": 7,
   "metadata": {},
   "outputs": [],
   "source": [
    "def build_model():\n",
    "       \n",
    "    model = models.Sequential([\n",
    "    layers.Dense(32, activation='relu', input_shape=(INPUT_DIM,)),\n",
    "    layers.Dense(32, activation='relu'),\n",
    "    layers.Dense(1, activation='sigmoid')\n",
    "    ])\n",
    "\n",
    "    model.compile(\n",
    "    optimizer='rmsprop',\n",
    "    loss='binary_crossentropy',\n",
    "    metrics=METRICS)\n",
    "\n",
    "    return model\n",
    "\n",
    "model = KerasClassifier(build_fn=build_model, verbose = 0)\n",
    "\n",
    "# Scaled initial weights\n",
    "neg, pos = np.bincount(train_y)\n",
    "total = neg + pos\n",
    "weight_for_0 = (1 / neg)*(total)/2.0 \n",
    "weight_for_1 = (1 / pos)*(total)/2.0\n",
    "class_weight = {0: weight_for_0, 1: weight_for_1}"
   ]
  },
  {
   "cell_type": "markdown",
   "metadata": {},
   "source": [
    "## Grid Searches"
   ]
  },
  {
   "cell_type": "code",
   "execution_count": 6,
   "metadata": {},
   "outputs": [],
   "source": [
    "# epochs, batch_size search 1\n",
    "param_grid = dict(batch_size = [16,64,128,512,1024,4096,8192],\n",
    "                  epochs = [10,50,100,200])\n",
    "\n",
    "# Guard to prevent this code from being run accidentially - it takes a rather long time\n",
    "\n",
    "if False:\n",
    "    grid = GridSearchCV(estimator=model, param_grid=param_grid, n_jobs=1, cv=pds, refit=False)\n",
    "    grid_result = grid.fit(train_x, train_y, class_weight = class_weight)"
   ]
  },
  {
   "cell_type": "code",
   "execution_count": 8,
   "metadata": {},
   "outputs": [
    {
     "name": "stdout",
     "output_type": "stream",
     "text": [
      "Best: 0.801259 using {'batch_size': 512, 'epochs': 100}\n",
      "0.673224 (0.000000) with: {'batch_size': 16, 'epochs': 10}\n",
      "0.731364 (0.000000) with: {'batch_size': 16, 'epochs': 50}\n",
      "0.363927 (0.000000) with: {'batch_size': 16, 'epochs': 100}\n",
      "0.448231 (0.000000) with: {'batch_size': 16, 'epochs': 200}\n",
      "0.238195 (0.000000) with: {'batch_size': 64, 'epochs': 10}\n",
      "0.478080 (0.000000) with: {'batch_size': 64, 'epochs': 50}\n",
      "0.592495 (0.000000) with: {'batch_size': 64, 'epochs': 100}\n",
      "0.414106 (0.000000) with: {'batch_size': 64, 'epochs': 200}\n",
      "0.541110 (0.000000) with: {'batch_size': 128, 'epochs': 10}\n",
      "0.462508 (0.000000) with: {'batch_size': 128, 'epochs': 50}\n",
      "0.645964 (0.000000) with: {'batch_size': 128, 'epochs': 100}\n",
      "0.677106 (0.000000) with: {'batch_size': 128, 'epochs': 200}\n",
      "0.589447 (0.000000) with: {'batch_size': 512, 'epochs': 10}\n",
      "0.550606 (0.000000) with: {'batch_size': 512, 'epochs': 50}\n",
      "0.801259 (0.000000) with: {'batch_size': 512, 'epochs': 100}\n",
      "0.657236 (0.000000) with: {'batch_size': 512, 'epochs': 200}\n",
      "0.665548 (0.000000) with: {'batch_size': 1024, 'epochs': 10}\n",
      "0.599228 (0.000000) with: {'batch_size': 1024, 'epochs': 50}\n",
      "0.679540 (0.000000) with: {'batch_size': 1024, 'epochs': 100}\n",
      "0.685264 (0.000000) with: {'batch_size': 1024, 'epochs': 200}\n",
      "0.673531 (0.000000) with: {'batch_size': 4096, 'epochs': 10}\n",
      "0.570169 (0.000000) with: {'batch_size': 4096, 'epochs': 50}\n",
      "0.634691 (0.000000) with: {'batch_size': 4096, 'epochs': 100}\n",
      "0.711341 (0.000000) with: {'batch_size': 4096, 'epochs': 200}\n",
      "0.547470 (0.000000) with: {'batch_size': 8192, 'epochs': 10}\n",
      "0.695440 (0.000000) with: {'batch_size': 8192, 'epochs': 50}\n",
      "0.706691 (0.000000) with: {'batch_size': 8192, 'epochs': 100}\n",
      "0.639647 (0.000000) with: {'batch_size': 8192, 'epochs': 200}\n"
     ]
    }
   ],
   "source": [
    "print(\"Best: %f using %s\" % (grid_result.best_score_, grid_result.best_params_))\n",
    "means = grid_result.cv_results_['mean_test_score']\n",
    "stds = grid_result.cv_results_['std_test_score']\n",
    "params = grid_result.cv_results_['params']\n",
    "for mean, stdev, param in zip(means, stds, params):\n",
    "    print(\"%f (%f) with: %r\" % (mean, stdev, param))"
   ]
  },
  {
   "cell_type": "code",
   "execution_count": 28,
   "metadata": {
    "scrolled": false
   },
   "outputs": [
    {
     "data": {
      "image/png": "[encoded data removed]",
      "text/plain": [
       "<Figure size 1200x800 with 2 Axes>"
      ]
     },
     "metadata": {},
     "output_type": "display_data"
    }
   ],
   "source": [
    "fig=plt.figure(figsize=(12,8), dpi= 100, facecolor='w', edgecolor='k')\n",
    "gs_res = grid_result.cv_results_\n",
    "plt.scatter(x = gs_res['param_epochs'], y = gs_res['param_batch_size'], c=gs_res['mean_test_score'], cmap=plt.get_cmap('YlOrBr'))\n",
    "plt.xlabel('No. Epochs')\n",
    "plt.ylabel('Batch Size')\n",
    "plt.yscale(\"log\", basey = 2)\n",
    "cb = plt.colorbar()\n",
    "cb.set_label(\"Mean Accuracy???\")\n",
    "#plt.gray()\n",
    "plt.show()"
   ]
  },
  {
   "cell_type": "code",
   "execution_count": 8,
   "metadata": {},
   "outputs": [],
   "source": [
    "# Optimal values\n",
    "NO_EPOCHS = 100;\n",
    "BATCH_SIZE = 512;"
   ]
  },
  {
   "cell_type": "code",
   "execution_count": 12,
   "metadata": {},
   "outputs": [
    {
     "name": "stdout",
     "output_type": "stream",
     "text": [
      "Epoch 1/100\n",
      "891/891 [==============================] - 2s 2ms/step - loss: 0.6770 - tp: 4515.0000 - fp: 190600.0000 - tn: 302798.0000 - fn: 3638.0000 - accuracy: 0.6127 - precision: 0.0231 - recall: 0.5538 - auc: 0.6179 - val_loss: 0.6897 - val_tp: 484.0000 - val_fp: 19568.0000 - val_tn: 25267.0000 - val_fn: 277.0000 - val_accuracy: 0.5648 - val_precision: 0.0241 - val_recall: 0.6360 - val_auc: 0.6568\n",
      "Epoch 2/100\n",
      "891/891 [==============================] - 1s 2ms/step - loss: 0.6612 - tp: 4369.0000 - fp: 172191.0000 - tn: 276372.0000 - fn: 3023.0000 - accuracy: 0.6157 - precision: 0.0247 - recall: 0.5910 - auc: 0.6457 - val_loss: 0.6488 - val_tp: 440.0000 - val_fp: 16229.0000 - val_tn: 28606.0000 - val_fn: 321.0000 - val_accuracy: 0.6370 - val_precision: 0.0264 - val_recall: 0.5782 - val_auc: 0.6581\n",
      "Epoch 3/100\n",
      "891/891 [==============================] - 1s 1ms/step - loss: 0.6585 - tp: 4437.0000 - fp: 170025.0000 - tn: 278538.0000 - fn: 2955.0000 - accuracy: 0.6206 - precision: 0.0254 - recall: 0.6002 - auc: 0.6523 - val_loss: 0.6502 - val_tp: 443.0000 - val_fp: 15846.0000 - val_tn: 28989.0000 - val_fn: 318.0000 - val_accuracy: 0.6455 - val_precision: 0.0272 - val_recall: 0.5821 - val_auc: 0.6666\n",
      "Epoch 4/100\n",
      "891/891 [==============================] - 1s 1ms/step - loss: 0.6550 - tp: 4356.0000 - fp: 162959.0000 - tn: 285604.0000 - fn: 3036.0000 - accuracy: 0.6359 - precision: 0.0260 - recall: 0.5893 - auc: 0.6574 - val_loss: 0.6526 - val_tp: 455.0000 - val_fp: 16396.0000 - val_tn: 28439.0000 - val_fn: 306.0000 - val_accuracy: 0.6337 - val_precision: 0.0270 - val_recall: 0.5979 - val_auc: 0.6679\n",
      "Epoch 5/100\n",
      "891/891 [==============================] - 1s 1ms/step - loss: 0.6540 - tp: 4415.0000 - fp: 162172.0000 - tn: 286391.0000 - fn: 2977.0000 - accuracy: 0.6378 - precision: 0.0265 - recall: 0.5973 - auc: 0.6595 - val_loss: 0.6626 - val_tp: 465.0000 - val_fp: 16713.0000 - val_tn: 28122.0000 - val_fn: 296.0000 - val_accuracy: 0.6270 - val_precision: 0.0271 - val_recall: 0.6110 - val_auc: 0.6765\n",
      "Epoch 6/100\n",
      "891/891 [==============================] - 1s 1ms/step - loss: 0.6529 - tp: 4348.0000 - fp: 160416.0000 - tn: 288147.0000 - fn: 3044.0000 - accuracy: 0.6415 - precision: 0.0264 - recall: 0.5882 - auc: 0.6606 - val_loss: 0.6563 - val_tp: 463.0000 - val_fp: 15927.0000 - val_tn: 28908.0000 - val_fn: 298.0000 - val_accuracy: 0.6442 - val_precision: 0.0282 - val_recall: 0.6084 - val_auc: 0.6818\n",
      "Epoch 7/100\n",
      "891/891 [==============================] - 1s 1ms/step - loss: 0.6526 - tp: 4302.0000 - fp: 156584.0000 - tn: 291979.0000 - fn: 3090.0000 - accuracy: 0.6498 - precision: 0.0267 - recall: 0.5820 - auc: 0.6613 - val_loss: 0.6379 - val_tp: 440.0000 - val_fp: 14762.0000 - val_tn: 30073.0000 - val_fn: 321.0000 - val_accuracy: 0.6692 - val_precision: 0.0289 - val_recall: 0.5782 - val_auc: 0.6825\n",
      "Epoch 8/100\n",
      "891/891 [==============================] - 1s 1ms/step - loss: 0.6513 - tp: 4331.0000 - fp: 156620.0000 - tn: 291943.0000 - fn: 3061.0000 - accuracy: 0.6498 - precision: 0.0269 - recall: 0.5859 - auc: 0.6639 - val_loss: 0.6538 - val_tp: 446.0000 - val_fp: 14776.0000 - val_tn: 30059.0000 - val_fn: 315.0000 - val_accuracy: 0.6690 - val_precision: 0.0293 - val_recall: 0.5861 - val_auc: 0.6835\n",
      "Epoch 9/100\n",
      "891/891 [==============================] - 1s 1ms/step - loss: 0.6516 - tp: 4351.0000 - fp: 154649.0000 - tn: 293914.0000 - fn: 3041.0000 - accuracy: 0.6542 - precision: 0.0274 - recall: 0.5886 - auc: 0.6647 - val_loss: 0.6133 - val_tp: 427.0000 - val_fp: 13789.0000 - val_tn: 31046.0000 - val_fn: 334.0000 - val_accuracy: 0.6903 - val_precision: 0.0300 - val_recall: 0.5611 - val_auc: 0.6859\n",
      "Epoch 10/100\n",
      "891/891 [==============================] - 1s 1ms/step - loss: 0.6517 - tp: 4349.0000 - fp: 156680.0000 - tn: 291883.0000 - fn: 3043.0000 - accuracy: 0.6497 - precision: 0.0270 - recall: 0.5883 - auc: 0.6646 - val_loss: 0.6306 - val_tp: 453.0000 - val_fp: 14520.0000 - val_tn: 30315.0000 - val_fn: 308.0000 - val_accuracy: 0.6748 - val_precision: 0.0303 - val_recall: 0.5953 - val_auc: 0.6895\n",
      "Epoch 11/100\n",
      "891/891 [==============================] - 1s 1ms/step - loss: 0.6510 - tp: 4340.0000 - fp: 156489.0000 - tn: 292074.0000 - fn: 3052.0000 - accuracy: 0.6501 - precision: 0.0270 - recall: 0.5871 - auc: 0.6664 - val_loss: 0.7047 - val_tp: 537.0000 - val_fp: 19269.0000 - val_tn: 25566.0000 - val_fn: 224.0000 - val_accuracy: 0.5725 - val_precision: 0.0271 - val_recall: 0.7057 - val_auc: 0.6903\n",
      "Epoch 12/100\n",
      "891/891 [==============================] - 1s 1ms/step - loss: 0.6500 - tp: 4359.0000 - fp: 154371.0000 - tn: 294192.0000 - fn: 3033.0000 - accuracy: 0.6548 - precision: 0.0275 - recall: 0.5897 - auc: 0.6687 - val_loss: 0.6858 - val_tp: 519.0000 - val_fp: 18309.0000 - val_tn: 26526.0000 - val_fn: 242.0000 - val_accuracy: 0.5931 - val_precision: 0.0276 - val_recall: 0.6820 - val_auc: 0.6892\n",
      "Epoch 13/100\n",
      "891/891 [==============================] - 1s 1ms/step - loss: 0.6500 - tp: 4323.0000 - fp: 152360.0000 - tn: 296203.0000 - fn: 3069.0000 - accuracy: 0.6591 - precision: 0.0276 - recall: 0.5848 - auc: 0.6673 - val_loss: 0.6821 - val_tp: 492.0000 - val_fp: 17470.0000 - val_tn: 27365.0000 - val_fn: 269.0000 - val_accuracy: 0.6110 - val_precision: 0.0274 - val_recall: 0.6465 - val_auc: 0.6818\n",
      "Epoch 14/100\n",
      "891/891 [==============================] - 1s 1ms/step - loss: 0.6490 - tp: 4388.0000 - fp: 154330.0000 - tn: 294233.0000 - fn: 3004.0000 - accuracy: 0.6549 - precision: 0.0276 - recall: 0.5936 - auc: 0.6706 - val_loss: 0.5910 - val_tp: 402.0000 - val_fp: 12146.0000 - val_tn: 32689.0000 - val_fn: 359.0000 - val_accuracy: 0.7257 - val_precision: 0.0320 - val_recall: 0.5283 - val_auc: 0.6887\n",
      "Epoch 15/100\n",
      "891/891 [==============================] - 1s 1ms/step - loss: 0.6481 - tp: 4325.0000 - fp: 151814.0000 - tn: 296749.0000 - fn: 3067.0000 - accuracy: 0.6603 - precision: 0.0277 - recall: 0.5851 - auc: 0.6706 - val_loss: 0.6620 - val_tp: 488.0000 - val_fp: 16988.0000 - val_tn: 27847.0000 - val_fn: 273.0000 - val_accuracy: 0.6214 - val_precision: 0.0279 - val_recall: 0.6413 - val_auc: 0.6905\n",
      "Epoch 16/100\n",
      "891/891 [==============================] - 1s 1ms/step - loss: 0.6485 - tp: 4376.0000 - fp: 153592.0000 - tn: 294971.0000 - fn: 3016.0000 - accuracy: 0.6565 - precision: 0.0277 - recall: 0.5920 - auc: 0.6707 - val_loss: 0.6060 - val_tp: 414.0000 - val_fp: 12983.0000 - val_tn: 31852.0000 - val_fn: 347.0000 - val_accuracy: 0.7076 - val_precision: 0.0309 - val_recall: 0.5440 - val_auc: 0.6848\n",
      "Epoch 17/100\n",
      "891/891 [==============================] - 1s 1ms/step - loss: 0.6479 - tp: 4373.0000 - fp: 152616.0000 - tn: 295947.0000 - fn: 3019.0000 - accuracy: 0.6587 - precision: 0.0279 - recall: 0.5916 - auc: 0.6719 - val_loss: 0.5805 - val_tp: 398.0000 - val_fp: 11813.0000 - val_tn: 33022.0000 - val_fn: 363.0000 - val_accuracy: 0.7330 - val_precision: 0.0326 - val_recall: 0.5230 - val_auc: 0.6864\n",
      "Epoch 18/100\n",
      "891/891 [==============================] - 1s 1ms/step - loss: 0.6473 - tp: 4371.0000 - fp: 151174.0000 - tn: 297389.0000 - fn: 3021.0000 - accuracy: 0.6618 - precision: 0.0281 - recall: 0.5913 - auc: 0.6743 - val_loss: 0.6009 - val_tp: 415.0000 - val_fp: 12600.0000 - val_tn: 32235.0000 - val_fn: 346.0000 - val_accuracy: 0.7161 - val_precision: 0.0319 - val_recall: 0.5453 - val_auc: 0.6797\n",
      "Epoch 19/100\n",
      "891/891 [==============================] - 1s 1ms/step - loss: 0.6476 - tp: 4364.0000 - fp: 150374.0000 - tn: 298189.0000 - fn: 3028.0000 - accuracy: 0.6636 - precision: 0.0282 - recall: 0.5904 - auc: 0.6730 - val_loss: 0.7348 - val_tp: 564.0000 - val_fp: 21357.0000 - val_tn: 23478.0000 - val_fn: 197.0000 - val_accuracy: 0.5273 - val_precision: 0.0257 - val_recall: 0.7411 - val_auc: 0.6874\n",
      "Epoch 20/100\n",
      "891/891 [==============================] - 1s 1ms/step - loss: 0.6476 - tp: 4390.0000 - fp: 150998.0000 - tn: 297565.0000 - fn: 3002.0000 - accuracy: 0.6622 - precision: 0.0283 - recall: 0.5939 - auc: 0.6733 - val_loss: 0.6201 - val_tp: 428.0000 - val_fp: 13498.0000 - val_tn: 31337.0000 - val_fn: 333.0000 - val_accuracy: 0.6967 - val_precision: 0.0307 - val_recall: 0.5624 - val_auc: 0.6870\n",
      "Epoch 21/100\n"
     ]
    },
    {
     "name": "stdout",
     "output_type": "stream",
     "text": [
      "891/891 [==============================] - 1s 1ms/step - loss: 0.6482 - tp: 4307.0000 - fp: 149875.0000 - tn: 298688.0000 - fn: 3085.0000 - accuracy: 0.6645 - precision: 0.0279 - recall: 0.5827 - auc: 0.6720 - val_loss: 0.6367 - val_tp: 441.0000 - val_fp: 14859.0000 - val_tn: 29976.0000 - val_fn: 320.0000 - val_accuracy: 0.6671 - val_precision: 0.0288 - val_recall: 0.5795 - val_auc: 0.6838\n",
      "Epoch 22/100\n",
      "891/891 [==============================] - 1s 1ms/step - loss: 0.6473 - tp: 4375.0000 - fp: 150484.0000 - tn: 298079.0000 - fn: 3017.0000 - accuracy: 0.6633 - precision: 0.0283 - recall: 0.5919 - auc: 0.6728 - val_loss: 0.5960 - val_tp: 410.0000 - val_fp: 12590.0000 - val_tn: 32245.0000 - val_fn: 351.0000 - val_accuracy: 0.7162 - val_precision: 0.0315 - val_recall: 0.5388 - val_auc: 0.6826\n",
      "Epoch 23/100\n",
      "891/891 [==============================] - 1s 1ms/step - loss: 0.6477 - tp: 4394.0000 - fp: 151210.0000 - tn: 297353.0000 - fn: 2998.0000 - accuracy: 0.6618 - precision: 0.0282 - recall: 0.5944 - auc: 0.6734 - val_loss: 0.6336 - val_tp: 421.0000 - val_fp: 13396.0000 - val_tn: 31439.0000 - val_fn: 340.0000 - val_accuracy: 0.6987 - val_precision: 0.0305 - val_recall: 0.5532 - val_auc: 0.6853\n",
      "Epoch 24/100\n",
      "891/891 [==============================] - 1s 1ms/step - loss: 0.6473 - tp: 4344.0000 - fp: 148464.0000 - tn: 300099.0000 - fn: 3048.0000 - accuracy: 0.6677 - precision: 0.0284 - recall: 0.5877 - auc: 0.6736 - val_loss: 0.6630 - val_tp: 498.0000 - val_fp: 17065.0000 - val_tn: 27770.0000 - val_fn: 263.0000 - val_accuracy: 0.6200 - val_precision: 0.0284 - val_recall: 0.6544 - val_auc: 0.6861\n",
      "Epoch 25/100\n",
      "891/891 [==============================] - 1s 1ms/step - loss: 0.6469 - tp: 4381.0000 - fp: 150422.0000 - tn: 298141.0000 - fn: 3011.0000 - accuracy: 0.6635 - precision: 0.0283 - recall: 0.5927 - auc: 0.6741 - val_loss: 0.6055 - val_tp: 437.0000 - val_fp: 14691.0000 - val_tn: 30144.0000 - val_fn: 324.0000 - val_accuracy: 0.6707 - val_precision: 0.0289 - val_recall: 0.5742 - val_auc: 0.6774\n",
      "Epoch 26/100\n",
      "891/891 [==============================] - 1s 1ms/step - loss: 0.6486 - tp: 4355.0000 - fp: 151605.0000 - tn: 296958.0000 - fn: 3037.0000 - accuracy: 0.6608 - precision: 0.0279 - recall: 0.5892 - auc: 0.6709 - val_loss: 0.6063 - val_tp: 405.0000 - val_fp: 12993.0000 - val_tn: 31842.0000 - val_fn: 356.0000 - val_accuracy: 0.7072 - val_precision: 0.0302 - val_recall: 0.5322 - val_auc: 0.6815\n",
      "Epoch 27/100\n",
      "891/891 [==============================] - 1s 1ms/step - loss: 0.6497 - tp: 4262.0000 - fp: 149183.0000 - tn: 299380.0000 - fn: 3130.0000 - accuracy: 0.6659 - precision: 0.0278 - recall: 0.5766 - auc: 0.6689 - val_loss: 0.6139 - val_tp: 405.0000 - val_fp: 12613.0000 - val_tn: 32222.0000 - val_fn: 356.0000 - val_accuracy: 0.7156 - val_precision: 0.0311 - val_recall: 0.5322 - val_auc: 0.6804\n",
      "Epoch 28/100\n",
      "891/891 [==============================] - 1s 1ms/step - loss: 0.6509 - tp: 4283.0000 - fp: 151028.0000 - tn: 297535.0000 - fn: 3109.0000 - accuracy: 0.6619 - precision: 0.0276 - recall: 0.5794 - auc: 0.6675 - val_loss: 0.6116 - val_tp: 439.0000 - val_fp: 13808.0000 - val_tn: 31027.0000 - val_fn: 322.0000 - val_accuracy: 0.6901 - val_precision: 0.0308 - val_recall: 0.5769 - val_auc: 0.6828\n",
      "Epoch 29/100\n",
      "891/891 [==============================] - 1s 1ms/step - loss: 0.6502 - tp: 4324.0000 - fp: 152720.0000 - tn: 295843.0000 - fn: 3068.0000 - accuracy: 0.6583 - precision: 0.0275 - recall: 0.5850 - auc: 0.6682 - val_loss: 0.6447 - val_tp: 450.0000 - val_fp: 14933.0000 - val_tn: 29902.0000 - val_fn: 311.0000 - val_accuracy: 0.6657 - val_precision: 0.0293 - val_recall: 0.5913 - val_auc: 0.6842\n",
      "Epoch 30/100\n",
      "891/891 [==============================] - 1s 1ms/step - loss: 0.6502 - tp: 4335.0000 - fp: 153934.0000 - tn: 294629.0000 - fn: 3057.0000 - accuracy: 0.6557 - precision: 0.0274 - recall: 0.5864 - auc: 0.6691 - val_loss: 0.6378 - val_tp: 460.0000 - val_fp: 14772.0000 - val_tn: 30063.0000 - val_fn: 301.0000 - val_accuracy: 0.6694 - val_precision: 0.0302 - val_recall: 0.6045 - val_auc: 0.6840\n",
      "Epoch 31/100\n",
      "891/891 [==============================] - 1s 1ms/step - loss: 0.6498 - tp: 4378.0000 - fp: 154552.0000 - tn: 294011.0000 - fn: 3014.0000 - accuracy: 0.6544 - precision: 0.0275 - recall: 0.5923 - auc: 0.6697 - val_loss: 0.6637 - val_tp: 484.0000 - val_fp: 16099.0000 - val_tn: 28736.0000 - val_fn: 277.0000 - val_accuracy: 0.6408 - val_precision: 0.0292 - val_recall: 0.6360 - val_auc: 0.6878\n",
      "Epoch 32/100\n",
      "891/891 [==============================] - 1s 1ms/step - loss: 0.6486 - tp: 4435.0000 - fp: 155980.0000 - tn: 292583.0000 - fn: 2957.0000 - accuracy: 0.6514 - precision: 0.0276 - recall: 0.6000 - auc: 0.6724 - val_loss: 0.6386 - val_tp: 479.0000 - val_fp: 15596.0000 - val_tn: 29239.0000 - val_fn: 282.0000 - val_accuracy: 0.6518 - val_precision: 0.0298 - val_recall: 0.6294 - val_auc: 0.6899\n",
      "Epoch 33/100\n",
      "891/891 [==============================] - 1s 1ms/step - loss: 0.6486 - tp: 4458.0000 - fp: 154593.0000 - tn: 293970.0000 - fn: 2934.0000 - accuracy: 0.6545 - precision: 0.0280 - recall: 0.6031 - auc: 0.6738 - val_loss: 0.6436 - val_tp: 469.0000 - val_fp: 14992.0000 - val_tn: 29843.0000 - val_fn: 292.0000 - val_accuracy: 0.6648 - val_precision: 0.0303 - val_recall: 0.6163 - val_auc: 0.6925\n",
      "Epoch 34/100\n",
      "891/891 [==============================] - 1s 1ms/step - loss: 0.6477 - tp: 4433.0000 - fp: 155188.0000 - tn: 293375.0000 - fn: 2959.0000 - accuracy: 0.6532 - precision: 0.0278 - recall: 0.5997 - auc: 0.6735 - val_loss: 0.6692 - val_tp: 499.0000 - val_fp: 16829.0000 - val_tn: 28006.0000 - val_fn: 262.0000 - val_accuracy: 0.6252 - val_precision: 0.0288 - val_recall: 0.6557 - val_auc: 0.6914\n",
      "Epoch 35/100\n",
      "891/891 [==============================] - 1s 1ms/step - loss: 0.6470 - tp: 4389.0000 - fp: 153743.0000 - tn: 294820.0000 - fn: 3003.0000 - accuracy: 0.6562 - precision: 0.0278 - recall: 0.5938 - auc: 0.6747 - val_loss: 0.5729 - val_tp: 402.0000 - val_fp: 11201.0000 - val_tn: 33634.0000 - val_fn: 359.0000 - val_accuracy: 0.7465 - val_precision: 0.0346 - val_recall: 0.5283 - val_auc: 0.6916\n",
      "Epoch 36/100\n",
      "891/891 [==============================] - 1s 1ms/step - loss: 0.6473 - tp: 4468.0000 - fp: 154395.0000 - tn: 294168.0000 - fn: 2924.0000 - accuracy: 0.6550 - precision: 0.0281 - recall: 0.6044 - auc: 0.6764 - val_loss: 0.6460 - val_tp: 465.0000 - val_fp: 14940.0000 - val_tn: 29895.0000 - val_fn: 296.0000 - val_accuracy: 0.6658 - val_precision: 0.0302 - val_recall: 0.6110 - val_auc: 0.6889\n",
      "Epoch 37/100\n",
      "891/891 [==============================] - 1s 1ms/step - loss: 0.6479 - tp: 4423.0000 - fp: 151973.0000 - tn: 296590.0000 - fn: 2969.0000 - accuracy: 0.6602 - precision: 0.0283 - recall: 0.5983 - auc: 0.6745 - val_loss: 0.6598 - val_tp: 496.0000 - val_fp: 16442.0000 - val_tn: 28393.0000 - val_fn: 265.0000 - val_accuracy: 0.6336 - val_precision: 0.0293 - val_recall: 0.6518 - val_auc: 0.6957\n",
      "Epoch 38/100\n",
      "891/891 [==============================] - 1s 1ms/step - loss: 0.6478 - tp: 4388.0000 - fp: 150772.0000 - tn: 297791.0000 - fn: 3004.0000 - accuracy: 0.6627 - precision: 0.0283 - recall: 0.5936 - auc: 0.6734 - val_loss: 0.6836 - val_tp: 503.0000 - val_fp: 17105.0000 - val_tn: 27730.0000 - val_fn: 258.0000 - val_accuracy: 0.6192 - val_precision: 0.0286 - val_recall: 0.6610 - val_auc: 0.6964\n",
      "Epoch 39/100\n",
      "891/891 [==============================] - 1s 1ms/step - loss: 0.6479 - tp: 4354.0000 - fp: 148102.0000 - tn: 300461.0000 - fn: 3038.0000 - accuracy: 0.6685 - precision: 0.0286 - recall: 0.5890 - auc: 0.6736 - val_loss: 0.7098 - val_tp: 524.0000 - val_fp: 18189.0000 - val_tn: 26646.0000 - val_fn: 237.0000 - val_accuracy: 0.5959 - val_precision: 0.0280 - val_recall: 0.6886 - val_auc: 0.6865\n",
      "Epoch 40/100\n",
      "891/891 [==============================] - 1s 1ms/step - loss: 0.6486 - tp: 4402.0000 - fp: 150741.0000 - tn: 297822.0000 - fn: 2990.0000 - accuracy: 0.6628 - precision: 0.0284 - recall: 0.5955 - auc: 0.6736 - val_loss: 0.6696 - val_tp: 470.0000 - val_fp: 15417.0000 - val_tn: 29418.0000 - val_fn: 291.0000 - val_accuracy: 0.6555 - val_precision: 0.0296 - val_recall: 0.6176 - val_auc: 0.6866\n",
      "Epoch 41/100\n"
     ]
    },
    {
     "name": "stdout",
     "output_type": "stream",
     "text": [
      "891/891 [==============================] - 1s 1ms/step - loss: 0.6477 - tp: 4318.0000 - fp: 146830.0000 - tn: 301733.0000 - fn: 3074.0000 - accuracy: 0.6712 - precision: 0.0286 - recall: 0.5841 - auc: 0.6742 - val_loss: 0.7343 - val_tp: 552.0000 - val_fp: 20074.0000 - val_tn: 24761.0000 - val_fn: 209.0000 - val_accuracy: 0.5552 - val_precision: 0.0268 - val_recall: 0.7254 - val_auc: 0.6949\n",
      "Epoch 42/100\n",
      "891/891 [==============================] - 1s 1ms/step - loss: 0.6473 - tp: 4350.0000 - fp: 147360.0000 - tn: 301203.0000 - fn: 3042.0000 - accuracy: 0.6701 - precision: 0.0287 - recall: 0.5885 - auc: 0.6742 - val_loss: 0.6429 - val_tp: 465.0000 - val_fp: 14713.0000 - val_tn: 30122.0000 - val_fn: 296.0000 - val_accuracy: 0.6708 - val_precision: 0.0306 - val_recall: 0.6110 - val_auc: 0.6962\n",
      "Epoch 43/100\n",
      "891/891 [==============================] - 1s 1ms/step - loss: 0.6474 - tp: 4377.0000 - fp: 148326.0000 - tn: 300237.0000 - fn: 3015.0000 - accuracy: 0.6681 - precision: 0.0287 - recall: 0.5921 - auc: 0.6754 - val_loss: 0.7004 - val_tp: 530.0000 - val_fp: 18159.0000 - val_tn: 26676.0000 - val_fn: 231.0000 - val_accuracy: 0.5967 - val_precision: 0.0284 - val_recall: 0.6965 - val_auc: 0.6967\n",
      "Epoch 44/100\n",
      "891/891 [==============================] - 1s 1ms/step - loss: 0.6471 - tp: 4359.0000 - fp: 146748.0000 - tn: 301815.0000 - fn: 3033.0000 - accuracy: 0.6715 - precision: 0.0288 - recall: 0.5897 - auc: 0.6750 - val_loss: 0.6590 - val_tp: 463.0000 - val_fp: 14506.0000 - val_tn: 30329.0000 - val_fn: 298.0000 - val_accuracy: 0.6753 - val_precision: 0.0309 - val_recall: 0.6084 - val_auc: 0.7005\n",
      "Epoch 45/100\n",
      "891/891 [==============================] - 1s 1ms/step - loss: 0.6480 - tp: 4322.0000 - fp: 143993.0000 - tn: 304570.0000 - fn: 3070.0000 - accuracy: 0.6775 - precision: 0.0291 - recall: 0.5847 - auc: 0.6752 - val_loss: 0.6252 - val_tp: 463.0000 - val_fp: 13859.0000 - val_tn: 30976.0000 - val_fn: 298.0000 - val_accuracy: 0.6895 - val_precision: 0.0323 - val_recall: 0.6084 - val_auc: 0.6970\n",
      "Epoch 46/100\n",
      "891/891 [==============================] - 1s 1ms/step - loss: 0.6470 - tp: 4382.0000 - fp: 147795.0000 - tn: 300768.0000 - fn: 3010.0000 - accuracy: 0.6693 - precision: 0.0288 - recall: 0.5928 - auc: 0.6757 - val_loss: 0.6037 - val_tp: 423.0000 - val_fp: 11619.0000 - val_tn: 33216.0000 - val_fn: 338.0000 - val_accuracy: 0.7378 - val_precision: 0.0351 - val_recall: 0.5558 - val_auc: 0.6930\n",
      "Epoch 47/100\n",
      "891/891 [==============================] - 1s 1ms/step - loss: 0.6474 - tp: 4289.0000 - fp: 142045.0000 - tn: 306518.0000 - fn: 3103.0000 - accuracy: 0.6817 - precision: 0.0293 - recall: 0.5802 - auc: 0.6758 - val_loss: 0.6128 - val_tp: 419.0000 - val_fp: 12551.0000 - val_tn: 32284.0000 - val_fn: 342.0000 - val_accuracy: 0.7172 - val_precision: 0.0323 - val_recall: 0.5506 - val_auc: 0.6946\n",
      "Epoch 48/100\n",
      "891/891 [==============================] - 1s 1ms/step - loss: 0.6463 - tp: 4273.0000 - fp: 142191.0000 - tn: 306372.0000 - fn: 3119.0000 - accuracy: 0.6813 - precision: 0.0292 - recall: 0.5781 - auc: 0.6761 - val_loss: 0.6355 - val_tp: 455.0000 - val_fp: 13594.0000 - val_tn: 31241.0000 - val_fn: 306.0000 - val_accuracy: 0.6951 - val_precision: 0.0324 - val_recall: 0.5979 - val_auc: 0.6945\n",
      "Epoch 49/100\n",
      "891/891 [==============================] - 1s 1ms/step - loss: 0.6480 - tp: 4254.0000 - fp: 141429.0000 - tn: 307134.0000 - fn: 3138.0000 - accuracy: 0.6829 - precision: 0.0292 - recall: 0.5755 - auc: 0.6741 - val_loss: 0.6554 - val_tp: 479.0000 - val_fp: 14676.0000 - val_tn: 30159.0000 - val_fn: 282.0000 - val_accuracy: 0.6719 - val_precision: 0.0316 - val_recall: 0.6294 - val_auc: 0.7008\n",
      "Epoch 50/100\n",
      "891/891 [==============================] - 1s 1ms/step - loss: 0.6473 - tp: 4325.0000 - fp: 143892.0000 - tn: 304671.0000 - fn: 3067.0000 - accuracy: 0.6777 - precision: 0.0292 - recall: 0.5851 - auc: 0.6736 - val_loss: 0.6129 - val_tp: 437.0000 - val_fp: 12841.0000 - val_tn: 31994.0000 - val_fn: 324.0000 - val_accuracy: 0.7113 - val_precision: 0.0329 - val_recall: 0.5742 - val_auc: 0.7005\n",
      "Epoch 51/100\n",
      "891/891 [==============================] - 1s 1ms/step - loss: 0.6474 - tp: 4292.0000 - fp: 141522.0000 - tn: 307041.0000 - fn: 3100.0000 - accuracy: 0.6828 - precision: 0.0294 - recall: 0.5806 - auc: 0.6748 - val_loss: 0.6514 - val_tp: 461.0000 - val_fp: 13841.0000 - val_tn: 30994.0000 - val_fn: 300.0000 - val_accuracy: 0.6899 - val_precision: 0.0322 - val_recall: 0.6058 - val_auc: 0.7003\n",
      "Epoch 52/100\n",
      "891/891 [==============================] - 1s 1ms/step - loss: 0.6468 - tp: 4195.0000 - fp: 136351.0000 - tn: 312212.0000 - fn: 3197.0000 - accuracy: 0.6939 - precision: 0.0298 - recall: 0.5675 - auc: 0.6730 - val_loss: 0.6066 - val_tp: 434.0000 - val_fp: 12693.0000 - val_tn: 32142.0000 - val_fn: 327.0000 - val_accuracy: 0.7144 - val_precision: 0.0331 - val_recall: 0.5703 - val_auc: 0.6966\n",
      "Epoch 53/100\n",
      "891/891 [==============================] - 1s 1ms/step - loss: 0.6459 - tp: 4228.0000 - fp: 137877.0000 - tn: 310686.0000 - fn: 3164.0000 - accuracy: 0.6907 - precision: 0.0298 - recall: 0.5720 - auc: 0.6759 - val_loss: 0.6741 - val_tp: 484.0000 - val_fp: 16076.0000 - val_tn: 28759.0000 - val_fn: 277.0000 - val_accuracy: 0.6414 - val_precision: 0.0292 - val_recall: 0.6360 - val_auc: 0.6937\n",
      "Epoch 54/100\n",
      "891/891 [==============================] - 1s 1ms/step - loss: 0.6464 - tp: 4228.0000 - fp: 137866.0000 - tn: 310697.0000 - fn: 3164.0000 - accuracy: 0.6907 - precision: 0.0298 - recall: 0.5720 - auc: 0.6748 - val_loss: 0.5987 - val_tp: 422.0000 - val_fp: 12229.0000 - val_tn: 32606.0000 - val_fn: 339.0000 - val_accuracy: 0.7244 - val_precision: 0.0334 - val_recall: 0.5545 - val_auc: 0.6932\n",
      "Epoch 55/100\n",
      "891/891 [==============================] - 1s 1ms/step - loss: 0.6456 - tp: 4208.0000 - fp: 138011.0000 - tn: 310552.0000 - fn: 3184.0000 - accuracy: 0.6903 - precision: 0.0296 - recall: 0.5693 - auc: 0.6755 - val_loss: 0.6044 - val_tp: 419.0000 - val_fp: 11830.0000 - val_tn: 33005.0000 - val_fn: 342.0000 - val_accuracy: 0.7330 - val_precision: 0.0342 - val_recall: 0.5506 - val_auc: 0.6904\n",
      "Epoch 56/100\n",
      "891/891 [==============================] - 1s 1ms/step - loss: 0.6467 - tp: 4202.0000 - fp: 138054.0000 - tn: 310509.0000 - fn: 3190.0000 - accuracy: 0.6902 - precision: 0.0295 - recall: 0.5685 - auc: 0.6749 - val_loss: 0.6586 - val_tp: 470.0000 - val_fp: 14775.0000 - val_tn: 30060.0000 - val_fn: 291.0000 - val_accuracy: 0.6696 - val_precision: 0.0308 - val_recall: 0.6176 - val_auc: 0.6942\n",
      "Epoch 57/100\n",
      "891/891 [==============================] - 1s 1ms/step - loss: 0.6482 - tp: 4161.0000 - fp: 134702.0000 - tn: 313861.0000 - fn: 3231.0000 - accuracy: 0.6975 - precision: 0.0300 - recall: 0.5629 - auc: 0.6729 - val_loss: 0.6089 - val_tp: 433.0000 - val_fp: 12526.0000 - val_tn: 32309.0000 - val_fn: 328.0000 - val_accuracy: 0.7181 - val_precision: 0.0334 - val_recall: 0.5690 - val_auc: 0.6946\n",
      "Epoch 58/100\n",
      "891/891 [==============================] - 1s 1ms/step - loss: 0.6481 - tp: 4129.0000 - fp: 132398.0000 - tn: 316165.0000 - fn: 3263.0000 - accuracy: 0.7025 - precision: 0.0302 - recall: 0.5586 - auc: 0.6716 - val_loss: 0.6707 - val_tp: 466.0000 - val_fp: 14238.0000 - val_tn: 30597.0000 - val_fn: 295.0000 - val_accuracy: 0.6813 - val_precision: 0.0317 - val_recall: 0.6124 - val_auc: 0.6884\n",
      "Epoch 59/100\n",
      "891/891 [==============================] - 1s 1ms/step - loss: 0.6457 - tp: 4169.0000 - fp: 133657.0000 - tn: 314906.0000 - fn: 3223.0000 - accuracy: 0.6998 - precision: 0.0302 - recall: 0.5640 - auc: 0.6750 - val_loss: 0.6381 - val_tp: 464.0000 - val_fp: 14211.0000 - val_tn: 30624.0000 - val_fn: 297.0000 - val_accuracy: 0.6818 - val_precision: 0.0316 - val_recall: 0.6097 - val_auc: 0.6917\n",
      "Epoch 60/100\n",
      "891/891 [==============================] - 1s 1ms/step - loss: 0.6459 - tp: 4163.0000 - fp: 133912.0000 - tn: 314651.0000 - fn: 3229.0000 - accuracy: 0.6992 - precision: 0.0302 - recall: 0.5632 - auc: 0.6753 - val_loss: 0.6239 - val_tp: 439.0000 - val_fp: 12514.0000 - val_tn: 32321.0000 - val_fn: 322.0000 - val_accuracy: 0.7185 - val_precision: 0.0339 - val_recall: 0.5769 - val_auc: 0.6947\n",
      "Epoch 61/100\n"
     ]
    },
    {
     "name": "stdout",
     "output_type": "stream",
     "text": [
      "891/891 [==============================] - 1s 1ms/step - loss: 0.6456 - tp: 4131.0000 - fp: 135040.0000 - tn: 313523.0000 - fn: 3261.0000 - accuracy: 0.6967 - precision: 0.0297 - recall: 0.5588 - auc: 0.6754 - val_loss: 0.5957 - val_tp: 416.0000 - val_fp: 10952.0000 - val_tn: 33883.0000 - val_fn: 345.0000 - val_accuracy: 0.7522 - val_precision: 0.0366 - val_recall: 0.5466 - val_auc: 0.6953\n",
      "Epoch 62/100\n",
      "891/891 [==============================] - 1s 1ms/step - loss: 0.6471 - tp: 4108.0000 - fp: 134178.0000 - tn: 314385.0000 - fn: 3284.0000 - accuracy: 0.6985 - precision: 0.0297 - recall: 0.5557 - auc: 0.6734 - val_loss: 0.6247 - val_tp: 444.0000 - val_fp: 12726.0000 - val_tn: 32109.0000 - val_fn: 317.0000 - val_accuracy: 0.7139 - val_precision: 0.0337 - val_recall: 0.5834 - val_auc: 0.6909\n",
      "Epoch 63/100\n",
      "891/891 [==============================] - 1s 1ms/step - loss: 0.6466 - tp: 4122.0000 - fp: 134569.0000 - tn: 313994.0000 - fn: 3270.0000 - accuracy: 0.6977 - precision: 0.0297 - recall: 0.5576 - auc: 0.6737 - val_loss: 0.6099 - val_tp: 405.0000 - val_fp: 11270.0000 - val_tn: 33565.0000 - val_fn: 356.0000 - val_accuracy: 0.7450 - val_precision: 0.0347 - val_recall: 0.5322 - val_auc: 0.6859\n",
      "Epoch 64/100\n",
      "891/891 [==============================] - 1s 1ms/step - loss: 0.6471 - tp: 4086.0000 - fp: 132892.0000 - tn: 315671.0000 - fn: 3306.0000 - accuracy: 0.7013 - precision: 0.0298 - recall: 0.5528 - auc: 0.6731 - val_loss: 0.6712 - val_tp: 468.0000 - val_fp: 14963.0000 - val_tn: 29872.0000 - val_fn: 293.0000 - val_accuracy: 0.6654 - val_precision: 0.0303 - val_recall: 0.6150 - val_auc: 0.6884\n",
      "Epoch 65/100\n",
      "891/891 [==============================] - 1s 1ms/step - loss: 0.6475 - tp: 4118.0000 - fp: 132889.0000 - tn: 315674.0000 - fn: 3274.0000 - accuracy: 0.7014 - precision: 0.0301 - recall: 0.5571 - auc: 0.6732 - val_loss: 0.6096 - val_tp: 398.0000 - val_fp: 11090.0000 - val_tn: 33745.0000 - val_fn: 363.0000 - val_accuracy: 0.7488 - val_precision: 0.0346 - val_recall: 0.5230 - val_auc: 0.6926\n",
      "Epoch 66/100\n",
      "891/891 [==============================] - 1s 1ms/step - loss: 0.6487 - tp: 4081.0000 - fp: 132343.0000 - tn: 316220.0000 - fn: 3311.0000 - accuracy: 0.7025 - precision: 0.0299 - recall: 0.5521 - auc: 0.6733 - val_loss: 0.6741 - val_tp: 450.0000 - val_fp: 13843.0000 - val_tn: 30992.0000 - val_fn: 311.0000 - val_accuracy: 0.6896 - val_precision: 0.0315 - val_recall: 0.5913 - val_auc: 0.6892\n",
      "Epoch 67/100\n",
      "891/891 [==============================] - 1s 1ms/step - loss: 0.6501 - tp: 4094.0000 - fp: 135978.0000 - tn: 312585.0000 - fn: 3298.0000 - accuracy: 0.6945 - precision: 0.0292 - recall: 0.5538 - auc: 0.6700 - val_loss: 0.6594 - val_tp: 459.0000 - val_fp: 14596.0000 - val_tn: 30239.0000 - val_fn: 302.0000 - val_accuracy: 0.6733 - val_precision: 0.0305 - val_recall: 0.6032 - val_auc: 0.6827\n",
      "Epoch 68/100\n",
      "891/891 [==============================] - 1s 1ms/step - loss: 0.6507 - tp: 3971.0000 - fp: 130956.0000 - tn: 317607.0000 - fn: 3421.0000 - accuracy: 0.7053 - precision: 0.0294 - recall: 0.5372 - auc: 0.6677 - val_loss: 0.6474 - val_tp: 399.0000 - val_fp: 11742.0000 - val_tn: 33093.0000 - val_fn: 362.0000 - val_accuracy: 0.7345 - val_precision: 0.0329 - val_recall: 0.5243 - val_auc: 0.6795\n",
      "Epoch 69/100\n",
      "891/891 [==============================] - 1s 1ms/step - loss: 0.6518 - tp: 3859.0000 - fp: 128417.0000 - tn: 320146.0000 - fn: 3533.0000 - accuracy: 0.7106 - precision: 0.0292 - recall: 0.5221 - auc: 0.6638 - val_loss: 0.6543 - val_tp: 420.0000 - val_fp: 13661.0000 - val_tn: 31174.0000 - val_fn: 341.0000 - val_accuracy: 0.6929 - val_precision: 0.0298 - val_recall: 0.5519 - val_auc: 0.6733\n",
      "Epoch 70/100\n",
      "891/891 [==============================] - 1s 1ms/step - loss: 0.6547 - tp: 3805.0000 - fp: 129945.0000 - tn: 318618.0000 - fn: 3587.0000 - accuracy: 0.7071 - precision: 0.0284 - recall: 0.5147 - auc: 0.6592 - val_loss: 0.7283 - val_tp: 488.0000 - val_fp: 18739.0000 - val_tn: 26096.0000 - val_fn: 273.0000 - val_accuracy: 0.5830 - val_precision: 0.0254 - val_recall: 0.6413 - val_auc: 0.6672\n",
      "Epoch 71/100\n",
      "891/891 [==============================] - 1s 1ms/step - loss: 0.6542 - tp: 3836.0000 - fp: 131289.0000 - tn: 317274.0000 - fn: 3556.0000 - accuracy: 0.7043 - precision: 0.0284 - recall: 0.5189 - auc: 0.6591 - val_loss: 0.6631 - val_tp: 425.0000 - val_fp: 13960.0000 - val_tn: 30875.0000 - val_fn: 336.0000 - val_accuracy: 0.6865 - val_precision: 0.0295 - val_recall: 0.5585 - val_auc: 0.6774\n",
      "Epoch 72/100\n",
      "891/891 [==============================] - 1s 1ms/step - loss: 0.6551 - tp: 3829.0000 - fp: 131394.0000 - tn: 317169.0000 - fn: 3563.0000 - accuracy: 0.7040 - precision: 0.0283 - recall: 0.5180 - auc: 0.6586 - val_loss: 0.6279 - val_tp: 400.0000 - val_fp: 12539.0000 - val_tn: 32296.0000 - val_fn: 361.0000 - val_accuracy: 0.7171 - val_precision: 0.0309 - val_recall: 0.5256 - val_auc: 0.6769\n",
      "Epoch 73/100\n",
      "891/891 [==============================] - 1s 1ms/step - loss: 0.6542 - tp: 3928.0000 - fp: 134439.0000 - tn: 314124.0000 - fn: 3464.0000 - accuracy: 0.6976 - precision: 0.0284 - recall: 0.5314 - auc: 0.6610 - val_loss: 0.6075 - val_tp: 379.0000 - val_fp: 11234.0000 - val_tn: 33601.0000 - val_fn: 382.0000 - val_accuracy: 0.7452 - val_precision: 0.0326 - val_recall: 0.4980 - val_auc: 0.6762\n",
      "Epoch 74/100\n",
      "891/891 [==============================] - 1s 1ms/step - loss: 0.6535 - tp: 3981.0000 - fp: 136348.0000 - tn: 312215.0000 - fn: 3411.0000 - accuracy: 0.6935 - precision: 0.0284 - recall: 0.5386 - auc: 0.6612 - val_loss: 0.6200 - val_tp: 366.0000 - val_fp: 11590.0000 - val_tn: 33245.0000 - val_fn: 395.0000 - val_accuracy: 0.7371 - val_precision: 0.0306 - val_recall: 0.4809 - val_auc: 0.6675\n",
      "Epoch 75/100\n",
      "891/891 [==============================] - 1s 1ms/step - loss: 0.6536 - tp: 4045.0000 - fp: 141773.0000 - tn: 306790.0000 - fn: 3347.0000 - accuracy: 0.6817 - precision: 0.0277 - recall: 0.5472 - auc: 0.6601 - val_loss: 0.6173 - val_tp: 389.0000 - val_fp: 12321.0000 - val_tn: 32514.0000 - val_fn: 372.0000 - val_accuracy: 0.7216 - val_precision: 0.0306 - val_recall: 0.5112 - val_auc: 0.6769\n",
      "Epoch 76/100\n",
      "891/891 [==============================] - 1s 1ms/step - loss: 0.6535 - tp: 4008.0000 - fp: 138893.0000 - tn: 309670.0000 - fn: 3384.0000 - accuracy: 0.6880 - precision: 0.0280 - recall: 0.5422 - auc: 0.6611 - val_loss: 0.6707 - val_tp: 444.0000 - val_fp: 15485.0000 - val_tn: 29350.0000 - val_fn: 317.0000 - val_accuracy: 0.6534 - val_precision: 0.0279 - val_recall: 0.5834 - val_auc: 0.6716\n",
      "Epoch 77/100\n",
      "891/891 [==============================] - 1s 1ms/step - loss: 0.6545 - tp: 4074.0000 - fp: 144506.0000 - tn: 304057.0000 - fn: 3318.0000 - accuracy: 0.6758 - precision: 0.0274 - recall: 0.5511 - auc: 0.6609 - val_loss: 0.6260 - val_tp: 413.0000 - val_fp: 13603.0000 - val_tn: 31232.0000 - val_fn: 348.0000 - val_accuracy: 0.6940 - val_precision: 0.0295 - val_recall: 0.5427 - val_auc: 0.6761\n",
      "Epoch 78/100\n",
      "891/891 [==============================] - 1s 1ms/step - loss: 0.6547 - tp: 4165.0000 - fp: 147654.0000 - tn: 300909.0000 - fn: 3227.0000 - accuracy: 0.6691 - precision: 0.0274 - recall: 0.5634 - auc: 0.6626 - val_loss: 0.6846 - val_tp: 488.0000 - val_fp: 17800.0000 - val_tn: 27035.0000 - val_fn: 273.0000 - val_accuracy: 0.6036 - val_precision: 0.0267 - val_recall: 0.6413 - val_auc: 0.6737\n",
      "Epoch 79/100\n",
      "891/891 [==============================] - 1s 1ms/step - loss: 0.6521 - tp: 4129.0000 - fp: 145407.0000 - tn: 303156.0000 - fn: 3263.0000 - accuracy: 0.6739 - precision: 0.0276 - recall: 0.5586 - auc: 0.6645 - val_loss: 0.7009 - val_tp: 477.0000 - val_fp: 16875.0000 - val_tn: 27960.0000 - val_fn: 284.0000 - val_accuracy: 0.6237 - val_precision: 0.0275 - val_recall: 0.6268 - val_auc: 0.6694\n",
      "Epoch 80/100\n",
      "891/891 [==============================] - 1s 1ms/step - loss: 0.6533 - tp: 4095.0000 - fp: 143698.0000 - tn: 304865.0000 - fn: 3297.0000 - accuracy: 0.6776 - precision: 0.0277 - recall: 0.5540 - auc: 0.6637 - val_loss: 0.6282 - val_tp: 403.0000 - val_fp: 12854.0000 - val_tn: 31981.0000 - val_fn: 358.0000 - val_accuracy: 0.7102 - val_precision: 0.0304 - val_recall: 0.5296 - val_auc: 0.6775\n",
      "Epoch 81/100\n"
     ]
    },
    {
     "name": "stdout",
     "output_type": "stream",
     "text": [
      "891/891 [==============================] - 1s 1ms/step - loss: 0.6519 - tp: 4077.0000 - fp: 141299.0000 - tn: 307264.0000 - fn: 3315.0000 - accuracy: 0.6828 - precision: 0.0280 - recall: 0.5515 - auc: 0.6651 - val_loss: 0.7155 - val_tp: 483.0000 - val_fp: 18730.0000 - val_tn: 26105.0000 - val_fn: 278.0000 - val_accuracy: 0.5831 - val_precision: 0.0251 - val_recall: 0.6347 - val_auc: 0.6591\n",
      "Epoch 82/100\n",
      "891/891 [==============================] - 1s 1ms/step - loss: 0.6536 - tp: 4087.0000 - fp: 143333.0000 - tn: 305230.0000 - fn: 3305.0000 - accuracy: 0.6784 - precision: 0.0277 - recall: 0.5529 - auc: 0.6636 - val_loss: 0.6456 - val_tp: 451.0000 - val_fp: 14774.0000 - val_tn: 30061.0000 - val_fn: 310.0000 - val_accuracy: 0.6692 - val_precision: 0.0296 - val_recall: 0.5926 - val_auc: 0.6797\n",
      "Epoch 83/100\n",
      "891/891 [==============================] - 1s 1ms/step - loss: 0.6529 - tp: 4246.0000 - fp: 150343.0000 - tn: 298220.0000 - fn: 3146.0000 - accuracy: 0.6634 - precision: 0.0275 - recall: 0.5744 - auc: 0.6647 - val_loss: 0.6053 - val_tp: 400.0000 - val_fp: 11988.0000 - val_tn: 32847.0000 - val_fn: 361.0000 - val_accuracy: 0.7292 - val_precision: 0.0323 - val_recall: 0.5256 - val_auc: 0.6812\n",
      "Epoch 84/100\n",
      "891/891 [==============================] - 1s 1ms/step - loss: 0.6515 - tp: 4321.0000 - fp: 153247.0000 - tn: 295316.0000 - fn: 3071.0000 - accuracy: 0.6572 - precision: 0.0274 - recall: 0.5846 - auc: 0.6668 - val_loss: 0.5776 - val_tp: 411.0000 - val_fp: 12191.0000 - val_tn: 32644.0000 - val_fn: 350.0000 - val_accuracy: 0.7250 - val_precision: 0.0326 - val_recall: 0.5401 - val_auc: 0.6839\n",
      "Epoch 85/100\n",
      "891/891 [==============================] - 1s 1ms/step - loss: 0.6513 - tp: 4378.0000 - fp: 155775.0000 - tn: 292788.0000 - fn: 3014.0000 - accuracy: 0.6517 - precision: 0.0273 - recall: 0.5923 - auc: 0.6672 - val_loss: 0.6182 - val_tp: 441.0000 - val_fp: 14008.0000 - val_tn: 30827.0000 - val_fn: 320.0000 - val_accuracy: 0.6858 - val_precision: 0.0305 - val_recall: 0.5795 - val_auc: 0.6823\n",
      "Epoch 86/100\n",
      "891/891 [==============================] - 1s 1ms/step - loss: 0.6511 - tp: 4328.0000 - fp: 153687.0000 - tn: 294876.0000 - fn: 3064.0000 - accuracy: 0.6562 - precision: 0.0274 - recall: 0.5855 - auc: 0.6672 - val_loss: 0.7112 - val_tp: 527.0000 - val_fp: 20690.0000 - val_tn: 24145.0000 - val_fn: 234.0000 - val_accuracy: 0.5411 - val_precision: 0.0248 - val_recall: 0.6925 - val_auc: 0.6758\n",
      "Epoch 87/100\n",
      "891/891 [==============================] - 1s 1ms/step - loss: 0.6508 - tp: 4435.0000 - fp: 158324.0000 - tn: 290239.0000 - fn: 2957.0000 - accuracy: 0.6463 - precision: 0.0272 - recall: 0.6000 - auc: 0.6684 - val_loss: 0.6534 - val_tp: 476.0000 - val_fp: 15778.0000 - val_tn: 29057.0000 - val_fn: 285.0000 - val_accuracy: 0.6477 - val_precision: 0.0293 - val_recall: 0.6255 - val_auc: 0.6845\n",
      "Epoch 88/100\n",
      "891/891 [==============================] - 1s 1ms/step - loss: 0.6505 - tp: 4382.0000 - fp: 154962.0000 - tn: 293601.0000 - fn: 3010.0000 - accuracy: 0.6535 - precision: 0.0275 - recall: 0.5928 - auc: 0.6682 - val_loss: 0.5568 - val_tp: 396.0000 - val_fp: 11466.0000 - val_tn: 33369.0000 - val_fn: 365.0000 - val_accuracy: 0.7405 - val_precision: 0.0334 - val_recall: 0.5204 - val_auc: 0.6844\n",
      "Epoch 89/100\n",
      "891/891 [==============================] - 1s 1ms/step - loss: 0.6529 - tp: 4321.0000 - fp: 153671.0000 - tn: 294892.0000 - fn: 3071.0000 - accuracy: 0.6562 - precision: 0.0273 - recall: 0.5846 - auc: 0.6660 - val_loss: 0.5821 - val_tp: 416.0000 - val_fp: 12531.0000 - val_tn: 32304.0000 - val_fn: 345.0000 - val_accuracy: 0.7176 - val_precision: 0.0321 - val_recall: 0.5466 - val_auc: 0.6851\n",
      "Epoch 90/100\n",
      "891/891 [==============================] - 1s 1ms/step - loss: 0.6512 - tp: 4393.0000 - fp: 155524.0000 - tn: 293039.0000 - fn: 2999.0000 - accuracy: 0.6523 - precision: 0.0275 - recall: 0.5943 - auc: 0.6680 - val_loss: 0.6559 - val_tp: 485.0000 - val_fp: 16216.0000 - val_tn: 28619.0000 - val_fn: 276.0000 - val_accuracy: 0.6383 - val_precision: 0.0290 - val_recall: 0.6373 - val_auc: 0.6870\n",
      "Epoch 91/100\n",
      "891/891 [==============================] - 1s 1ms/step - loss: 0.6507 - tp: 4384.0000 - fp: 155860.0000 - tn: 292703.0000 - fn: 3008.0000 - accuracy: 0.6516 - precision: 0.0274 - recall: 0.5931 - auc: 0.6677 - val_loss: 0.7264 - val_tp: 547.0000 - val_fp: 20601.0000 - val_tn: 24234.0000 - val_fn: 214.0000 - val_accuracy: 0.5435 - val_precision: 0.0259 - val_recall: 0.7188 - val_auc: 0.6809\n",
      "Epoch 92/100\n",
      "891/891 [==============================] - 1s 1ms/step - loss: 0.6494 - tp: 4420.0000 - fp: 157037.0000 - tn: 291526.0000 - fn: 2972.0000 - accuracy: 0.6491 - precision: 0.0274 - recall: 0.5979 - auc: 0.6704 - val_loss: 0.6399 - val_tp: 474.0000 - val_fp: 15642.0000 - val_tn: 29193.0000 - val_fn: 287.0000 - val_accuracy: 0.6506 - val_precision: 0.0294 - val_recall: 0.6229 - val_auc: 0.6871\n",
      "Epoch 93/100\n",
      "891/891 [==============================] - 1s 1ms/step - loss: 0.6489 - tp: 4424.0000 - fp: 157575.0000 - tn: 290988.0000 - fn: 2968.0000 - accuracy: 0.6479 - precision: 0.0273 - recall: 0.5985 - auc: 0.6695 - val_loss: 0.6033 - val_tp: 432.0000 - val_fp: 13673.0000 - val_tn: 31162.0000 - val_fn: 329.0000 - val_accuracy: 0.6929 - val_precision: 0.0306 - val_recall: 0.5677 - val_auc: 0.6852\n",
      "Epoch 94/100\n",
      "891/891 [==============================] - 1s 1ms/step - loss: 0.6490 - tp: 4430.0000 - fp: 157849.0000 - tn: 290714.0000 - fn: 2962.0000 - accuracy: 0.6473 - precision: 0.0273 - recall: 0.5993 - auc: 0.6701 - val_loss: 0.6616 - val_tp: 485.0000 - val_fp: 16423.0000 - val_tn: 28412.0000 - val_fn: 276.0000 - val_accuracy: 0.6338 - val_precision: 0.0287 - val_recall: 0.6373 - val_auc: 0.6898\n",
      "Epoch 95/100\n",
      "891/891 [==============================] - 1s 1ms/step - loss: 0.6494 - tp: 4422.0000 - fp: 157663.0000 - tn: 290900.0000 - fn: 2970.0000 - accuracy: 0.6477 - precision: 0.0273 - recall: 0.5982 - auc: 0.6715 - val_loss: 0.6092 - val_tp: 437.0000 - val_fp: 14024.0000 - val_tn: 30811.0000 - val_fn: 324.0000 - val_accuracy: 0.6853 - val_precision: 0.0302 - val_recall: 0.5742 - val_auc: 0.6841\n",
      "Epoch 96/100\n",
      "891/891 [==============================] - 1s 1ms/step - loss: 0.6478 - tp: 4500.0000 - fp: 159973.0000 - tn: 288590.0000 - fn: 2892.0000 - accuracy: 0.6428 - precision: 0.0274 - recall: 0.6088 - auc: 0.6720 - val_loss: 0.6381 - val_tp: 480.0000 - val_fp: 16167.0000 - val_tn: 28668.0000 - val_fn: 281.0000 - val_accuracy: 0.6393 - val_precision: 0.0288 - val_recall: 0.6307 - val_auc: 0.6870\n",
      "Epoch 97/100\n",
      "891/891 [==============================] - 1s 1ms/step - loss: 0.6489 - tp: 4483.0000 - fp: 160964.0000 - tn: 287599.0000 - fn: 2909.0000 - accuracy: 0.6406 - precision: 0.0271 - recall: 0.6065 - auc: 0.6715 - val_loss: 0.5856 - val_tp: 419.0000 - val_fp: 12971.0000 - val_tn: 31864.0000 - val_fn: 342.0000 - val_accuracy: 0.7080 - val_precision: 0.0313 - val_recall: 0.5506 - val_auc: 0.6877\n",
      "Epoch 98/100\n",
      "891/891 [==============================] - 1s 1ms/step - loss: 0.6464 - tp: 4489.0000 - fp: 159810.0000 - tn: 288753.0000 - fn: 2903.0000 - accuracy: 0.6431 - precision: 0.0273 - recall: 0.6073 - auc: 0.6744 - val_loss: 0.6090 - val_tp: 441.0000 - val_fp: 13782.0000 - val_tn: 31053.0000 - val_fn: 320.0000 - val_accuracy: 0.6907 - val_precision: 0.0310 - val_recall: 0.5795 - val_auc: 0.6873\n",
      "Epoch 99/100\n",
      "891/891 [==============================] - 1s 1ms/step - loss: 0.6505 - tp: 4505.0000 - fp: 161666.0000 - tn: 286897.0000 - fn: 2887.0000 - accuracy: 0.6391 - precision: 0.0271 - recall: 0.6094 - auc: 0.6713 - val_loss: 0.6636 - val_tp: 501.0000 - val_fp: 16953.0000 - val_tn: 27882.0000 - val_fn: 260.0000 - val_accuracy: 0.6225 - val_precision: 0.0287 - val_recall: 0.6583 - val_auc: 0.6912\n",
      "Epoch 100/100\n",
      "891/891 [==============================] - 1s 1ms/step - loss: 0.6498 - tp: 4518.0000 - fp: 162318.0000 - tn: 286245.0000 - fn: 2874.0000 - accuracy: 0.6377 - precision: 0.0271 - recall: 0.6112 - auc: 0.6702 - val_loss: 0.6139 - val_tp: 455.0000 - val_fp: 14418.0000 - val_tn: 30417.0000 - val_fn: 306.0000 - val_accuracy: 0.6771 - val_precision: 0.0306 - val_recall: 0.5979 - val_auc: 0.6931\n"
     ]
    }
   ],
   "source": [
    "# Fit 'optimal so far' model\n",
    "history = model.fit(train_x, train_y, epochs = NO_EPOCHS, batch_size = BATCH_SIZE, validation_data=(x_val, y_val), class_weight=class_weight, verbose = 1)"
   ]
  }
 ],
 "metadata": {
  "kernelspec": {
   "display_name": "Python 3",
   "language": "python",
   "name": "python3"
  },
  "language_info": {
   "codemirror_mode": {
    "name": "ipython",
    "version": 3
   },
   "file_extension": ".py",
   "mimetype": "text/x-python",
   "name": "python",
   "nbconvert_exporter": "python",
   "pygments_lexer": "ipython3",
   "version": "3.7.6"
  }
 },
 "nbformat": 4,
 "nbformat_minor": 4
}
