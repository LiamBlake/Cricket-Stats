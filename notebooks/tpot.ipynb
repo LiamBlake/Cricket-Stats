{
 "cells": [
  {
   "cell_type": "code",
   "execution_count": 12,
   "id": "a1a790bd-2f84-474d-ac4c-76307e19aaf1",
   "metadata": {},
   "outputs": [],
   "source": [
    "from tpot import TPOTClassifier\n",
    "\n",
    "import pandas as pd\n",
    "import numpy as np\n",
    "from sklearn.model_selection import train_test_split\n",
    "from sklearn.preprocessing import OneHotEncoder"
   ]
  },
  {
   "cell_type": "code",
   "execution_count": 38,
   "id": "99c7bcf8-59f3-4e37-857f-1ab537bb61b4",
   "metadata": {},
   "outputs": [],
   "source": [
    "# Load data\n",
    "df = pd.read_csv(\"../data/processed/bbb_cleaned.csv\")\n",
    "X = df.drop(\"is_wkt\", axis=1)\n",
    "y = df[\"is_wkt\"].rename(\"class\", inplace=True)"
   ]
  },
  {
   "cell_type": "code",
   "execution_count": 39,
   "id": "50985b22-3731-40eb-8b8d-55a2d2c751ac",
   "metadata": {},
   "outputs": [],
   "source": [
    "# Convert categorical columns to integers\n",
    "cat_cols = [\"innings\", \"team_wkts\", \"bat_position\", \"bat_arm\", \"bowl_wkts\", \"bowl_type\"]\n",
    "ohe = OneHotEncoder(sparse=False)\n",
    "encoded = np.empty((len(X.index),1))\n",
    "for c in cat_cols:\n",
    "    encoded = np.hstack((encoded,ohe.fit_transform(np.array([str(val) for val in X[c].values]).reshape(-1,1))))\n",
    "    \n",
    "X = X.drop(cat_cols, axis=1)\n",
    "X = np.hstack((X.values, encoded))"
   ]
  },
  {
   "cell_type": "code",
   "execution_count": 40,
   "id": "48213b75-4878-4626-8664-8a7db89a59c6",
   "metadata": {},
   "outputs": [],
   "source": [
    "y = y == \"W\"\n"
   ]
  },
  {
   "cell_type": "code",
   "execution_count": 42,
   "id": "63ca7ee2-3563-4ec5-aadd-248916d18432",
   "metadata": {},
   "outputs": [],
   "source": [
    "# Training-testing split\n",
    "X_train, X_test, y_train, y_test = train_test_split(X, y, random_state=42)\n"
   ]
  },
  {
   "cell_type": "code",
   "execution_count": 47,
   "id": "7a0a298e-1ae8-4cdb-b745-7fb07eb712bf",
   "metadata": {},
   "outputs": [
    {
     "data": {
      "application/vnd.jupyter.widget-view+json": {
       "model_id": "",
       "version_major": 2,
       "version_minor": 0
      },
      "text/plain": [
       "Optimization Progress:   0%|          | 0/10 [00:00<?, ?pipeline/s]"
      ]
     },
     "metadata": {},
     "output_type": "display_data"
    },
    {
     "name": "stdout",
     "output_type": "stream",
     "text": [
      "\n",
      "Generation 1 - Current best internal CV score: 0.6199219263665743\n",
      "\n",
      "93.00 minutes have elapsed. TPOT will close down.\n",
      "TPOT closed during evaluation in one generation.\n",
      "WARNING: TPOT may not provide a good pipeline if TPOT is stopped/interrupted in a early generation.\n",
      "\n",
      "\n",
      "TPOT closed prematurely. Will use the current best pipeline.\n",
      "\n",
      "Best pipeline: GaussianNB(input_matrix)\n",
      "0.6258927750489579\n"
     ]
    }
   ],
   "source": [
    "tpot = TPOTClassifier(generations=None, max_time_mins=90, population_size=10, verbosity=2, random_state=42, scoring=\"roc_auc\")\n",
    "tpot.fit(X_train, y_train)\n",
    "print(tpot.score(X_test, y_test))\n",
    "tpot.export('tpot_wkt_pipeline.py')"
   ]
  },
  {
   "cell_type": "code",
   "execution_count": 48,
   "id": "55d02d2b-11be-47ba-b9eb-666a9d548660",
   "metadata": {},
   "outputs": [
    {
     "name": "stdout",
     "output_type": "stream",
     "text": [
      "0.6258927750489579\n"
     ]
    }
   ],
   "source": [
    "print(tpot.score(X_test, y_test))"
   ]
  },
  {
   "cell_type": "code",
   "execution_count": 49,
   "id": "4ae3a1e7-f08f-45b8-9d29-f5353508b2a6",
   "metadata": {},
   "outputs": [
    {
     "data": {
      "text/plain": [
       "{'GaussianNB(input_matrix)': {'generation': 0,\n",
       "  'mutation_count': 0,\n",
       "  'crossover_count': 0,\n",
       "  'predecessor': ('ROOT',),\n",
       "  'operator_count': 1,\n",
       "  'internal_cv_score': 0.6199219263665743},\n",
       " 'RandomForestClassifier(MinMaxScaler(input_matrix), RandomForestClassifier__bootstrap=True, RandomForestClassifier__criterion=gini, RandomForestClassifier__max_features=0.2, RandomForestClassifier__min_samples_leaf=8, RandomForestClassifier__min_samples_split=4, RandomForestClassifier__n_estimators=100)': {'generation': 0,\n",
       "  'mutation_count': 0,\n",
       "  'crossover_count': 0,\n",
       "  'predecessor': ('ROOT',),\n",
       "  'operator_count': 2,\n",
       "  'internal_cv_score': -inf},\n",
       " 'XGBClassifier(input_matrix, XGBClassifier__learning_rate=0.001, XGBClassifier__max_depth=9, XGBClassifier__min_child_weight=7, XGBClassifier__n_estimators=100, XGBClassifier__n_jobs=1, XGBClassifier__subsample=0.45, XGBClassifier__verbosity=0)': {'generation': 0,\n",
       "  'mutation_count': 0,\n",
       "  'crossover_count': 0,\n",
       "  'predecessor': ('ROOT',),\n",
       "  'operator_count': 1,\n",
       "  'internal_cv_score': -inf},\n",
       " 'KNeighborsClassifier(input_matrix, KNeighborsClassifier__n_neighbors=3, KNeighborsClassifier__p=1, KNeighborsClassifier__weights=distance)': {'generation': 0,\n",
       "  'mutation_count': 0,\n",
       "  'crossover_count': 0,\n",
       "  'predecessor': ('ROOT',),\n",
       "  'operator_count': 1,\n",
       "  'internal_cv_score': -inf},\n",
       " 'LinearSVC(SelectFwe(input_matrix, SelectFwe__alpha=0.036000000000000004), LinearSVC__C=0.0001, LinearSVC__dual=True, LinearSVC__loss=squared_hinge, LinearSVC__penalty=l2, LinearSVC__tol=0.001)': {'generation': 0,\n",
       "  'mutation_count': 0,\n",
       "  'crossover_count': 0,\n",
       "  'predecessor': ('ROOT',),\n",
       "  'operator_count': 2,\n",
       "  'internal_cv_score': -inf},\n",
       " 'ExtraTreesClassifier(input_matrix, ExtraTreesClassifier__bootstrap=False, ExtraTreesClassifier__criterion=entropy, ExtraTreesClassifier__max_features=0.35000000000000003, ExtraTreesClassifier__min_samples_leaf=18, ExtraTreesClassifier__min_samples_split=9, ExtraTreesClassifier__n_estimators=100)': {'generation': 0,\n",
       "  'mutation_count': 0,\n",
       "  'crossover_count': 0,\n",
       "  'predecessor': ('ROOT',),\n",
       "  'operator_count': 1,\n",
       "  'internal_cv_score': -inf},\n",
       " 'ExtraTreesClassifier(input_matrix, ExtraTreesClassifier__bootstrap=True, ExtraTreesClassifier__criterion=entropy, ExtraTreesClassifier__max_features=0.8, ExtraTreesClassifier__min_samples_leaf=19, ExtraTreesClassifier__min_samples_split=5, ExtraTreesClassifier__n_estimators=100)': {'generation': 0,\n",
       "  'mutation_count': 0,\n",
       "  'crossover_count': 0,\n",
       "  'predecessor': ('ROOT',),\n",
       "  'operator_count': 1,\n",
       "  'internal_cv_score': -inf},\n",
       " 'XGBClassifier(input_matrix, XGBClassifier__learning_rate=0.01, XGBClassifier__max_depth=10, XGBClassifier__min_child_weight=17, XGBClassifier__n_estimators=100, XGBClassifier__n_jobs=1, XGBClassifier__subsample=1.0, XGBClassifier__verbosity=0)': {'generation': 0,\n",
       "  'mutation_count': 0,\n",
       "  'crossover_count': 0,\n",
       "  'predecessor': ('ROOT',),\n",
       "  'operator_count': 1,\n",
       "  'internal_cv_score': -inf},\n",
       " 'BernoulliNB(SGDClassifier(input_matrix, SGDClassifier__alpha=0.01, SGDClassifier__eta0=0.01, SGDClassifier__fit_intercept=False, SGDClassifier__l1_ratio=0.5, SGDClassifier__learning_rate=invscaling, SGDClassifier__loss=perceptron, SGDClassifier__penalty=elasticnet, SGDClassifier__power_t=0.1), BernoulliNB__alpha=1.0, BernoulliNB__fit_prior=False)': {'generation': 0,\n",
       "  'mutation_count': 0,\n",
       "  'crossover_count': 0,\n",
       "  'predecessor': ('ROOT',),\n",
       "  'operator_count': 2,\n",
       "  'internal_cv_score': 0.5990078114070919},\n",
       " 'BernoulliNB(XGBClassifier(input_matrix, XGBClassifier__learning_rate=0.5, XGBClassifier__max_depth=3, XGBClassifier__min_child_weight=8, XGBClassifier__n_estimators=100, XGBClassifier__n_jobs=1, XGBClassifier__subsample=1.0, XGBClassifier__verbosity=0), BernoulliNB__alpha=10.0, BernoulliNB__fit_prior=False)': {'generation': 0,\n",
       "  'mutation_count': 0,\n",
       "  'crossover_count': 0,\n",
       "  'predecessor': ('ROOT',),\n",
       "  'operator_count': 2,\n",
       "  'internal_cv_score': 0.598754516235597},\n",
       " 'XGBClassifier(FastICA(input_matrix, FastICA__tol=0.35000000000000003), XGBClassifier__learning_rate=0.001, XGBClassifier__max_depth=9, XGBClassifier__min_child_weight=7, XGBClassifier__n_estimators=100, XGBClassifier__n_jobs=1, XGBClassifier__subsample=0.45, XGBClassifier__verbosity=0)': {'generation': 1,\n",
       "  'mutation_count': 1,\n",
       "  'crossover_count': 0,\n",
       "  'predecessor': ('XGBClassifier(input_matrix, XGBClassifier__learning_rate=0.001, XGBClassifier__max_depth=9, XGBClassifier__min_child_weight=7, XGBClassifier__n_estimators=100, XGBClassifier__n_jobs=1, XGBClassifier__subsample=0.45, XGBClassifier__verbosity=0)',),\n",
       "  'operator_count': 2,\n",
       "  'internal_cv_score': -inf},\n",
       " 'ExtraTreesClassifier(input_matrix, ExtraTreesClassifier__bootstrap=False, ExtraTreesClassifier__criterion=entropy, ExtraTreesClassifier__max_features=0.35000000000000003, ExtraTreesClassifier__min_samples_leaf=19, ExtraTreesClassifier__min_samples_split=9, ExtraTreesClassifier__n_estimators=100)': {'generation': 1,\n",
       "  'mutation_count': 1,\n",
       "  'crossover_count': 0,\n",
       "  'predecessor': ('ExtraTreesClassifier(input_matrix, ExtraTreesClassifier__bootstrap=False, ExtraTreesClassifier__criterion=entropy, ExtraTreesClassifier__max_features=0.35000000000000003, ExtraTreesClassifier__min_samples_leaf=18, ExtraTreesClassifier__min_samples_split=9, ExtraTreesClassifier__n_estimators=100)',),\n",
       "  'operator_count': 1,\n",
       "  'internal_cv_score': -inf},\n",
       " 'GaussianNB(PCA(input_matrix, PCA__iterated_power=2, PCA__svd_solver=randomized))': {'generation': 1,\n",
       "  'mutation_count': 1,\n",
       "  'crossover_count': 0,\n",
       "  'predecessor': ('GaussianNB(input_matrix)',),\n",
       "  'operator_count': 2,\n",
       "  'internal_cv_score': 0.6182197612339425},\n",
       " 'XGBClassifier(RandomForestClassifier(input_matrix, RandomForestClassifier__bootstrap=True, RandomForestClassifier__criterion=entropy, RandomForestClassifier__max_features=0.6000000000000001, RandomForestClassifier__min_samples_leaf=20, RandomForestClassifier__min_samples_split=10, RandomForestClassifier__n_estimators=100), XGBClassifier__learning_rate=0.001, XGBClassifier__max_depth=9, XGBClassifier__min_child_weight=7, XGBClassifier__n_estimators=100, XGBClassifier__n_jobs=1, XGBClassifier__subsample=0.45, XGBClassifier__verbosity=0)': {'generation': 1,\n",
       "  'mutation_count': 1,\n",
       "  'crossover_count': 0,\n",
       "  'predecessor': ('XGBClassifier(input_matrix, XGBClassifier__learning_rate=0.001, XGBClassifier__max_depth=9, XGBClassifier__min_child_weight=7, XGBClassifier__n_estimators=100, XGBClassifier__n_jobs=1, XGBClassifier__subsample=0.45, XGBClassifier__verbosity=0)',),\n",
       "  'operator_count': 2,\n",
       "  'internal_cv_score': -inf},\n",
       " 'KNeighborsClassifier(GradientBoostingClassifier(input_matrix, GradientBoostingClassifier__learning_rate=0.01, GradientBoostingClassifier__max_depth=5, GradientBoostingClassifier__max_features=0.15000000000000002, GradientBoostingClassifier__min_samples_leaf=8, GradientBoostingClassifier__min_samples_split=5, GradientBoostingClassifier__n_estimators=100, GradientBoostingClassifier__subsample=0.45), KNeighborsClassifier__n_neighbors=3, KNeighborsClassifier__p=1, KNeighborsClassifier__weights=distance)': {'generation': 1,\n",
       "  'mutation_count': 1,\n",
       "  'crossover_count': 0,\n",
       "  'predecessor': ('KNeighborsClassifier(input_matrix, KNeighborsClassifier__n_neighbors=3, KNeighborsClassifier__p=1, KNeighborsClassifier__weights=distance)',),\n",
       "  'operator_count': 2,\n",
       "  'internal_cv_score': -inf},\n",
       " 'XGBClassifier(input_matrix, XGBClassifier__learning_rate=0.01, XGBClassifier__max_depth=10, XGBClassifier__min_child_weight=20, XGBClassifier__n_estimators=100, XGBClassifier__n_jobs=1, XGBClassifier__subsample=1.0, XGBClassifier__verbosity=0)': {'generation': 1,\n",
       "  'mutation_count': 1,\n",
       "  'crossover_count': 0,\n",
       "  'predecessor': ('XGBClassifier(input_matrix, XGBClassifier__learning_rate=0.01, XGBClassifier__max_depth=10, XGBClassifier__min_child_weight=17, XGBClassifier__n_estimators=100, XGBClassifier__n_jobs=1, XGBClassifier__subsample=1.0, XGBClassifier__verbosity=0)',),\n",
       "  'operator_count': 1,\n",
       "  'internal_cv_score': -inf},\n",
       " 'BernoulliNB(input_matrix, BernoulliNB__alpha=1.0, BernoulliNB__fit_prior=False)': {'generation': 1,\n",
       "  'mutation_count': 1,\n",
       "  'crossover_count': 0,\n",
       "  'predecessor': ('BernoulliNB(SGDClassifier(input_matrix, SGDClassifier__alpha=0.01, SGDClassifier__eta0=0.01, SGDClassifier__fit_intercept=False, SGDClassifier__l1_ratio=0.5, SGDClassifier__learning_rate=invscaling, SGDClassifier__loss=perceptron, SGDClassifier__penalty=elasticnet, SGDClassifier__power_t=0.1), BernoulliNB__alpha=1.0, BernoulliNB__fit_prior=False)',),\n",
       "  'operator_count': 1,\n",
       "  'internal_cv_score': 0.5986975945403381},\n",
       " 'XGBClassifier(input_matrix, XGBClassifier__learning_rate=0.01, XGBClassifier__max_depth=10, XGBClassifier__min_child_weight=2, XGBClassifier__n_estimators=100, XGBClassifier__n_jobs=1, XGBClassifier__subsample=1.0, XGBClassifier__verbosity=0)': {'generation': 1,\n",
       "  'mutation_count': 1,\n",
       "  'crossover_count': 0,\n",
       "  'predecessor': ('XGBClassifier(input_matrix, XGBClassifier__learning_rate=0.01, XGBClassifier__max_depth=10, XGBClassifier__min_child_weight=17, XGBClassifier__n_estimators=100, XGBClassifier__n_jobs=1, XGBClassifier__subsample=1.0, XGBClassifier__verbosity=0)',),\n",
       "  'operator_count': 1,\n",
       "  'internal_cv_score': -inf},\n",
       " 'KNeighborsClassifier(Normalizer(input_matrix, Normalizer__norm=l1), KNeighborsClassifier__n_neighbors=3, KNeighborsClassifier__p=1, KNeighborsClassifier__weights=distance)': {'generation': 1,\n",
       "  'mutation_count': 1,\n",
       "  'crossover_count': 0,\n",
       "  'predecessor': ('KNeighborsClassifier(input_matrix, KNeighborsClassifier__n_neighbors=3, KNeighborsClassifier__p=1, KNeighborsClassifier__weights=distance)',),\n",
       "  'operator_count': 2,\n",
       "  'internal_cv_score': -inf},\n",
       " 'BernoulliNB(SGDClassifier(input_matrix, SGDClassifier__alpha=0.01, SGDClassifier__eta0=0.01, SGDClassifier__fit_intercept=False, SGDClassifier__l1_ratio=0.5, SGDClassifier__learning_rate=invscaling, SGDClassifier__loss=perceptron, SGDClassifier__penalty=elasticnet, SGDClassifier__power_t=0.1), BernoulliNB__alpha=0.001, BernoulliNB__fit_prior=False)': {'generation': 1,\n",
       "  'mutation_count': 1,\n",
       "  'crossover_count': 0,\n",
       "  'predecessor': ('BernoulliNB(SGDClassifier(input_matrix, SGDClassifier__alpha=0.01, SGDClassifier__eta0=0.01, SGDClassifier__fit_intercept=False, SGDClassifier__l1_ratio=0.5, SGDClassifier__learning_rate=invscaling, SGDClassifier__loss=perceptron, SGDClassifier__penalty=elasticnet, SGDClassifier__power_t=0.1), BernoulliNB__alpha=1.0, BernoulliNB__fit_prior=False)',),\n",
       "  'operator_count': 2,\n",
       "  'internal_cv_score': 0.5990299414764699},\n",
       " 'BernoulliNB(input_matrix, BernoulliNB__alpha=0.001, BernoulliNB__fit_prior=False)': {'generation': 2,\n",
       "  'mutation_count': 2,\n",
       "  'crossover_count': 1,\n",
       "  'predecessor': ('BernoulliNB(SGDClassifier(input_matrix, SGDClassifier__alpha=0.01, SGDClassifier__eta0=0.01, SGDClassifier__fit_intercept=False, SGDClassifier__l1_ratio=0.5, SGDClassifier__learning_rate=invscaling, SGDClassifier__loss=perceptron, SGDClassifier__penalty=elasticnet, SGDClassifier__power_t=0.1), BernoulliNB__alpha=0.001, BernoulliNB__fit_prior=False)',\n",
       "   'BernoulliNB(input_matrix, BernoulliNB__alpha=1.0, BernoulliNB__fit_prior=False)'),\n",
       "  'operator_count': 1,\n",
       "  'internal_cv_score': 0.5987195003740118},\n",
       " 'XGBClassifier(VarianceThreshold(input_matrix, VarianceThreshold__threshold=0.001), XGBClassifier__learning_rate=0.001, XGBClassifier__max_depth=9, XGBClassifier__min_child_weight=7, XGBClassifier__n_estimators=100, XGBClassifier__n_jobs=1, XGBClassifier__subsample=0.45, XGBClassifier__verbosity=0)': {'generation': 2,\n",
       "  'mutation_count': 1,\n",
       "  'crossover_count': 0,\n",
       "  'predecessor': ('XGBClassifier(input_matrix, XGBClassifier__learning_rate=0.001, XGBClassifier__max_depth=9, XGBClassifier__min_child_weight=7, XGBClassifier__n_estimators=100, XGBClassifier__n_jobs=1, XGBClassifier__subsample=0.45, XGBClassifier__verbosity=0)',),\n",
       "  'operator_count': 2,\n",
       "  'internal_cv_score': -inf},\n",
       " 'KNeighborsClassifier(Binarizer(input_matrix, Binarizer__threshold=0.35000000000000003), KNeighborsClassifier__n_neighbors=3, KNeighborsClassifier__p=1, KNeighborsClassifier__weights=distance)': {'generation': 2,\n",
       "  'mutation_count': 1,\n",
       "  'crossover_count': 0,\n",
       "  'predecessor': ('KNeighborsClassifier(input_matrix, KNeighborsClassifier__n_neighbors=3, KNeighborsClassifier__p=1, KNeighborsClassifier__weights=distance)',),\n",
       "  'operator_count': 2,\n",
       "  'internal_cv_score': -inf},\n",
       " 'RandomForestClassifier(input_matrix, RandomForestClassifier__bootstrap=True, RandomForestClassifier__criterion=entropy, RandomForestClassifier__max_features=0.6000000000000001, RandomForestClassifier__min_samples_leaf=20, RandomForestClassifier__min_samples_split=19, RandomForestClassifier__n_estimators=100)': {'generation': 2,\n",
       "  'mutation_count': 1,\n",
       "  'crossover_count': 0,\n",
       "  'predecessor': ('KNeighborsClassifier(input_matrix, KNeighborsClassifier__n_neighbors=3, KNeighborsClassifier__p=1, KNeighborsClassifier__weights=distance)',),\n",
       "  'operator_count': 1,\n",
       "  'internal_cv_score': -inf}}"
      ]
     },
     "execution_count": 49,
     "metadata": {},
     "output_type": "execute_result"
    }
   ],
   "source": [
    "tpot.evaluated_individuals_"
   ]
  }
 ],
 "metadata": {
  "kernelspec": {
   "display_name": "Python 3",
   "language": "python",
   "name": "python3"
  },
  "language_info": {
   "codemirror_mode": {
    "name": "ipython",
    "version": 3
   },
   "file_extension": ".py",
   "mimetype": "text/x-python",
   "name": "python",
   "nbconvert_exporter": "python",
   "pygments_lexer": "ipython3",
   "version": "3.9.4"
  }
 },
 "nbformat": 4,
 "nbformat_minor": 5
}
