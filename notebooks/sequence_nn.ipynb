{
 "cells": [
  {
   "cell_type": "code",
   "execution_count": 4,
   "id": "a0bb4848-8a21-40bc-82cd-e7de83dadc8a",
   "metadata": {},
   "outputs": [],
   "source": [
    "%load_ext autoreload"
   ]
  },
  {
   "cell_type": "code",
   "execution_count": 7,
   "id": "71db553a-8dd2-421f-b169-88451a0d9e48",
   "metadata": {},
   "outputs": [],
   "source": [
    "%autoreload 2\n",
    "import pandas as pd\n",
    "\n",
    "from cricstats.data import load_cleaned_rds"
   ]
  },
  {
   "cell_type": "code",
   "execution_count": 20,
   "id": "d1519e0a-a731-4395-b000-c1b5e79b0239",
   "metadata": {},
   "outputs": [],
   "source": [
    "bbb = load_cleaned_rds(\"../data/processed/bbb_cleaned.RDS\").drop(\n",
    "    columns=[\n",
    "        \"spell_balls\",\n",
    "        \"spell_runs\",\n",
    "        \"spell_wkts\",\n",
    "        \"bat_team_total_runs\",\n",
    "        \"bat_team_total_wkts\",\n",
    "        \"bowl_team_total_runs\",\n",
    "        \"bowl_team_total_wkts\",\n",
    "        \"start_date\",\n",
    "        \"host_country\",\n",
    "        \"venue\",\n",
    "        \"toss_win\",\n",
    "        \"toss_elect\",\n",
    "        \"winner\",\n",
    "        \"margin\",\n",
    "        \"game_id\",\n",
    "        \"is_wkt\",\n",
    "        \"bowl_class\",\n",
    "        \"bat_win_toss\",\n",
    "        \"bat_home_away\",\n",
    "    ]\n",
    ")\n"
   ]
  },
  {
   "cell_type": "code",
   "execution_count": 21,
   "id": "3f9ba280-34b8-4433-9597-2cbe47de25ba",
   "metadata": {},
   "outputs": [
    {
     "data": {
      "text/plain": [
       "Index(['innings', 'match_balls', 'inn_balls', 'bat_team', 'team_wkts',\n",
       "       'team_score', 'team_lead', 'bowl_team', 'batter', 'bowler',\n",
       "       'bat_position', 'bat_score', 'bat_balls', 'bat_avg', 'career_bat_balls',\n",
       "       'bat_sr', 'bat_arm', 'bowl_balls', 'bowl_runs', 'bowl_wkts',\n",
       "       'career_bowl_balls', 'bowl_avg', 'bowl_sr', 'bowl_type', 'outcome',\n",
       "       'runs', 'extras', 'pqi'],\n",
       "      dtype='object')"
      ]
     },
     "execution_count": 21,
     "metadata": {},
     "output_type": "execute_result"
    }
   ],
   "source": [
    "bbb.columns"
   ]
  },
  {
   "cell_type": "code",
   "execution_count": null,
   "id": "48546def-fe66-45a6-ae1b-7dd7a19e1b95",
   "metadata": {},
   "outputs": [],
   "source": []
  }
 ],
 "metadata": {
  "kernelspec": {
   "display_name": "Python 3 (ipykernel)",
   "language": "python",
   "name": "python3"
  },
  "language_info": {
   "codemirror_mode": {
    "name": "ipython",
    "version": 3
   },
   "file_extension": ".py",
   "mimetype": "text/x-python",
   "name": "python",
   "nbconvert_exporter": "python",
   "pygments_lexer": "ipython3",
   "version": "3.9.4"
  }
 },
 "nbformat": 4,
 "nbformat_minor": 5
}
